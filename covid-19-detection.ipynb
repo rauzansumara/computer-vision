{
 "cells": [
  {
   "cell_type": "markdown",
   "metadata": {},
   "source": [
    "## Import Packages"
   ]
  },
  {
   "cell_type": "code",
   "execution_count": 5,
   "metadata": {
    "_cell_guid": "b1076dfc-b9ad-4769-8c92-a6c4dae69d19",
    "_uuid": "8f2839f25d086af736a60e9eeb907d3b93b6e0e5",
    "execution": {
     "iopub.execute_input": "2022-05-20T03:28:09.543815Z",
     "iopub.status.busy": "2022-05-20T03:28:09.543566Z",
     "iopub.status.idle": "2022-05-20T03:28:12.039764Z",
     "shell.execute_reply": "2022-05-20T03:28:12.039074Z",
     "shell.execute_reply.started": "2022-05-20T03:28:09.543789Z"
    }
   },
   "outputs": [],
   "source": [
    "import os\n",
    "import time\n",
    "import copy\n",
    "import numpy as np\n",
    "import pandas as pd\n",
    "from PIL import Image\n",
    "import torch,torchvision\n",
    "import torch.nn as nn\n",
    "import torch.nn.functional as F\n",
    "from torch.utils.data import DataLoader, Dataset\n",
    "from torchvision import datasets,models,transforms\n",
    "import torch.optim as optim\n",
    "import matplotlib.pyplot as plt\n",
    "from sklearn.model_selection import train_test_split\n",
    "from sklearn.utils import resample\n",
    "from sklearn.utils import shuffle\n",
    "from sklearn.metrics import confusion_matrix\n",
    "from torch.nn import Parameter"
   ]
  },
  {
   "cell_type": "markdown",
   "metadata": {},
   "source": [
    "## Read Datasets"
   ]
  },
  {
   "cell_type": "code",
   "execution_count": 7,
   "metadata": {
    "execution": {
     "iopub.execute_input": "2022-05-20T03:28:14.029766Z",
     "iopub.status.busy": "2022-05-20T03:28:14.029486Z",
     "iopub.status.idle": "2022-05-20T03:28:14.340266Z",
     "shell.execute_reply": "2022-05-20T03:28:14.339527Z",
     "shell.execute_reply.started": "2022-05-20T03:28:14.029735Z"
    },
    "scrolled": true
   },
   "outputs": [],
   "source": [
    "# train.txt\n",
    "train_df = pd.read_csv('../input/covidxct/train_COVIDx_CT-2A.txt', sep=\" \", header=None)\n",
    "train_df.columns=['filename', 'label', 'xmin','ymin','xmax','ymax']\n",
    "train_df=train_df.drop(['xmin', 'ymin','xmax', 'ymax'], axis=1 )\n",
    "# test.txt\n",
    "val_df = pd.read_csv('../input/covidxct/val_COVIDx_CT-2A.txt', sep=\" \", header=None)\n",
    "val_df.columns=['filename', 'label', 'xmin','ymin','xmax','ymax']\n",
    "val_df=val_df.drop(['xmin', 'ymin','xmax', 'ymax'], axis=1 )\n",
    "\n",
    "test_df = pd.read_csv('../input/covidxct/test_COVIDx_CT-2A.txt', sep=\" \", header=None)\n",
    "test_df.columns=['filename', 'label', 'xmin','ymin','xmax','ymax']\n",
    "test_df=test_df.drop(['xmin', 'ymin','xmax', 'ymax'], axis=1 )"
   ]
  },
  {
   "cell_type": "code",
   "execution_count": 8,
   "metadata": {
    "execution": {
     "iopub.execute_input": "2022-05-20T03:28:16.109004Z",
     "iopub.status.busy": "2022-05-20T03:28:16.108364Z",
     "iopub.status.idle": "2022-05-20T03:28:16.122462Z",
     "shell.execute_reply": "2022-05-20T03:28:16.121272Z",
     "shell.execute_reply.started": "2022-05-20T03:28:16.108967Z"
    }
   },
   "outputs": [
    {
     "data": {
      "text/plain": [
       "2    82286\n",
       "0    35996\n",
       "1    25496\n",
       "Name: label, dtype: int64"
      ]
     },
     "execution_count": 8,
     "metadata": {},
     "output_type": "execute_result"
    }
   ],
   "source": [
    "# labels={0:'Normal',1:'Pneumonia',2:'COVID-19'}\n",
    "train_df.head()\n",
    "train_df.label.value_counts()"
   ]
  },
  {
   "cell_type": "code",
   "execution_count": null,
   "metadata": {
    "execution": {
     "iopub.execute_input": "2022-05-20T03:28:17.633769Z",
     "iopub.status.busy": "2022-05-20T03:28:17.633246Z",
     "iopub.status.idle": "2022-05-20T03:28:17.683658Z",
     "shell.execute_reply": "2022-05-20T03:28:17.682988Z",
     "shell.execute_reply.started": "2022-05-20T03:28:17.633734Z"
    }
   },
   "outputs": [],
   "source": [
    "image_path = '../input/covidxct/2A_images/'  #directory path\n",
    "train_df['filename'] = image_path+train_df['filename']\n",
    "val_df['filename'] = image_path+val_df['filename']\n",
    "test_df['filename'] = image_path + test_df['filename']\n",
    "train_df.head()"
   ]
  },
  {
   "cell_type": "code",
   "execution_count": 10,
   "metadata": {
    "execution": {
     "iopub.execute_input": "2022-05-20T03:28:19.984138Z",
     "iopub.status.busy": "2022-05-20T03:28:19.983838Z",
     "iopub.status.idle": "2022-05-20T03:28:20.012887Z",
     "shell.execute_reply": "2022-05-20T03:28:20.012193Z",
     "shell.execute_reply.started": "2022-05-20T03:28:19.984106Z"
    }
   },
   "outputs": [
    {
     "data": {
      "text/plain": [
       "0    25496\n",
       "1    25496\n",
       "2    25496\n",
       "Name: label, dtype: int64"
      ]
     },
     "execution_count": 10,
     "metadata": {},
     "output_type": "execute_result"
    }
   ],
   "source": [
    "N  = train_df[train_df['label']==0]\n",
    "P = train_df[train_df['label']==1]\n",
    "C = train_df[train_df['label']==2]\n",
    "from sklearn.utils import resample\n",
    "N_download = resample(N, replace = True, n_samples = 25496,random_state=0)\n",
    "C_download = resample(C, replace = True, n_samples = 25496,random_state=0)\n",
    "train_df = pd.concat([N_download, P, C_download])\n",
    "train_df.label.value_counts()"
   ]
  },
  {
   "cell_type": "code",
   "execution_count": 11,
   "metadata": {
    "execution": {
     "iopub.execute_input": "2022-05-20T03:28:21.648539Z",
     "iopub.status.busy": "2022-05-20T03:28:21.647814Z",
     "iopub.status.idle": "2022-05-20T03:28:21.666920Z",
     "shell.execute_reply": "2022-05-20T03:28:21.666300Z",
     "shell.execute_reply.started": "2022-05-20T03:28:21.648502Z"
    }
   },
   "outputs": [
    {
     "data": {
      "text/plain": [
       "0    6244\n",
       "1    6244\n",
       "2    6244\n",
       "Name: label, dtype: int64"
      ]
     },
     "execution_count": 11,
     "metadata": {},
     "output_type": "execute_result"
    }
   ],
   "source": [
    "N_v  = val_df[val_df['label']==0]\n",
    "P_v = val_df[val_df['label']==1]\n",
    "C_v = val_df[val_df['label']==2]\n",
    "from sklearn.utils import resample\n",
    "N_v_download = resample(N_v, replace = True, n_samples = 6244,random_state=0)\n",
    "P_v_download = resample(P_v, replace = True, n_samples = 6244,random_state=0)\n",
    "val_df = pd.concat([N_v_download, P_v_download, C_v])\n",
    "val_df.label.value_counts()"
   ]
  },
  {
   "cell_type": "code",
   "execution_count": 12,
   "metadata": {
    "execution": {
     "iopub.execute_input": "2022-05-20T03:28:23.552864Z",
     "iopub.status.busy": "2022-05-20T03:28:23.552604Z",
     "iopub.status.idle": "2022-05-20T03:28:23.577150Z",
     "shell.execute_reply": "2022-05-20T03:28:23.576444Z",
     "shell.execute_reply.started": "2022-05-20T03:28:23.552837Z"
    }
   },
   "outputs": [
    {
     "data": {
      "text/html": [
       "<div>\n",
       "<style scoped>\n",
       "    .dataframe tbody tr th:only-of-type {\n",
       "        vertical-align: middle;\n",
       "    }\n",
       "\n",
       "    .dataframe tbody tr th {\n",
       "        vertical-align: top;\n",
       "    }\n",
       "\n",
       "    .dataframe thead th {\n",
       "        text-align: right;\n",
       "    }\n",
       "</style>\n",
       "<table border=\"1\" class=\"dataframe\">\n",
       "  <thead>\n",
       "    <tr style=\"text-align: right;\">\n",
       "      <th></th>\n",
       "      <th>filename</th>\n",
       "      <th>label</th>\n",
       "    </tr>\n",
       "  </thead>\n",
       "  <tbody>\n",
       "    <tr>\n",
       "      <th>37735</th>\n",
       "      <td>../input/covidxct/2A_images/Normal_1671_793_00...</td>\n",
       "      <td>0</td>\n",
       "    </tr>\n",
       "    <tr>\n",
       "      <th>12753</th>\n",
       "      <td>../input/covidxct/2A_images/CP_1784_3592_0056.png</td>\n",
       "      <td>1</td>\n",
       "    </tr>\n",
       "    <tr>\n",
       "      <th>72945</th>\n",
       "      <td>../input/covidxct/2A_images/normal4_patient222...</td>\n",
       "      <td>0</td>\n",
       "    </tr>\n",
       "    <tr>\n",
       "      <th>2498</th>\n",
       "      <td>../input/covidxct/2A_images/NCP_412_1974_0026.png</td>\n",
       "      <td>2</td>\n",
       "    </tr>\n",
       "    <tr>\n",
       "      <th>21577</th>\n",
       "      <td>../input/covidxct/2A_images/CP_1462_4002_0067.png</td>\n",
       "      <td>1</td>\n",
       "    </tr>\n",
       "  </tbody>\n",
       "</table>\n",
       "</div>"
      ],
      "text/plain": [
       "                                                filename  label\n",
       "37735  ../input/covidxct/2A_images/Normal_1671_793_00...      0\n",
       "12753  ../input/covidxct/2A_images/CP_1784_3592_0056.png      1\n",
       "72945  ../input/covidxct/2A_images/normal4_patient222...      0\n",
       "2498   ../input/covidxct/2A_images/NCP_412_1974_0026.png      2\n",
       "21577  ../input/covidxct/2A_images/CP_1462_4002_0067.png      1"
      ]
     },
     "execution_count": 12,
     "metadata": {},
     "output_type": "execute_result"
    }
   ],
   "source": [
    "train_df = shuffle(train_df)\n",
    "val_df = shuffle(val_df)\n",
    "test_df = shuffle(test_df)\n",
    "train_df.head()"
   ]
  },
  {
   "cell_type": "code",
   "execution_count": 13,
   "metadata": {
    "execution": {
     "iopub.execute_input": "2022-05-20T03:28:25.690800Z",
     "iopub.status.busy": "2022-05-20T03:28:25.690551Z",
     "iopub.status.idle": "2022-05-20T03:28:25.733527Z",
     "shell.execute_reply": "2022-05-20T03:28:25.732871Z",
     "shell.execute_reply.started": "2022-05-20T03:28:25.690773Z"
    },
    "scrolled": true
   },
   "outputs": [
    {
     "data": {
      "text/html": [
       "<div>\n",
       "<style scoped>\n",
       "    .dataframe tbody tr th:only-of-type {\n",
       "        vertical-align: middle;\n",
       "    }\n",
       "\n",
       "    .dataframe tbody tr th {\n",
       "        vertical-align: top;\n",
       "    }\n",
       "\n",
       "    .dataframe thead th {\n",
       "        text-align: right;\n",
       "    }\n",
       "</style>\n",
       "<table border=\"1\" class=\"dataframe\">\n",
       "  <thead>\n",
       "    <tr style=\"text-align: right;\">\n",
       "      <th></th>\n",
       "      <th>filename</th>\n",
       "      <th>label</th>\n",
       "      <th>label_n</th>\n",
       "    </tr>\n",
       "  </thead>\n",
       "  <tbody>\n",
       "    <tr>\n",
       "      <th>37735</th>\n",
       "      <td>../input/covidxct/2A_images/Normal_1671_793_00...</td>\n",
       "      <td>0</td>\n",
       "      <td>Normal</td>\n",
       "    </tr>\n",
       "    <tr>\n",
       "      <th>12753</th>\n",
       "      <td>../input/covidxct/2A_images/CP_1784_3592_0056.png</td>\n",
       "      <td>1</td>\n",
       "      <td>Pneumonia</td>\n",
       "    </tr>\n",
       "    <tr>\n",
       "      <th>72945</th>\n",
       "      <td>../input/covidxct/2A_images/normal4_patient222...</td>\n",
       "      <td>0</td>\n",
       "      <td>Normal</td>\n",
       "    </tr>\n",
       "    <tr>\n",
       "      <th>2498</th>\n",
       "      <td>../input/covidxct/2A_images/NCP_412_1974_0026.png</td>\n",
       "      <td>2</td>\n",
       "      <td>COVID-19</td>\n",
       "    </tr>\n",
       "    <tr>\n",
       "      <th>21577</th>\n",
       "      <td>../input/covidxct/2A_images/CP_1462_4002_0067.png</td>\n",
       "      <td>1</td>\n",
       "      <td>Pneumonia</td>\n",
       "    </tr>\n",
       "  </tbody>\n",
       "</table>\n",
       "</div>"
      ],
      "text/plain": [
       "                                                filename  label    label_n\n",
       "37735  ../input/covidxct/2A_images/Normal_1671_793_00...      0     Normal\n",
       "12753  ../input/covidxct/2A_images/CP_1784_3592_0056.png      1  Pneumonia\n",
       "72945  ../input/covidxct/2A_images/normal4_patient222...      0     Normal\n",
       "2498   ../input/covidxct/2A_images/NCP_412_1974_0026.png      2   COVID-19\n",
       "21577  ../input/covidxct/2A_images/CP_1462_4002_0067.png      1  Pneumonia"
      ]
     },
     "execution_count": 13,
     "metadata": {},
     "output_type": "execute_result"
    }
   ],
   "source": [
    "labels={0:'Normal',1:'Pneumonia',2:'COVID-19'}\n",
    "class_names=['Normal','Pneumonia','COVID-19']\n",
    "\n",
    "train_df['label_n']=[labels[b] for b in train_df['label']]\n",
    "val_df['label_n']=[labels[b] for b in val_df['label']]\n",
    "test_df['label_n']=[labels[b] for b in test_df['label']]\n",
    "train_df.head()"
   ]
  },
  {
   "cell_type": "code",
   "execution_count": 14,
   "metadata": {
    "execution": {
     "iopub.execute_input": "2022-05-20T03:28:27.864361Z",
     "iopub.status.busy": "2022-05-20T03:28:27.863817Z",
     "iopub.status.idle": "2022-05-20T03:28:27.885903Z",
     "shell.execute_reply": "2022-05-20T03:28:27.885154Z",
     "shell.execute_reply.started": "2022-05-20T03:28:27.864325Z"
    }
   },
   "outputs": [
    {
     "name": "stdout",
     "output_type": "stream",
     "text": [
      "Negative and positive values of train: \n",
      "Normal       25496\n",
      "Pneumonia    25496\n",
      "COVID-19     25496\n",
      "Name: label_n, dtype: int64\n",
      "Negative and positive values of validation: \n",
      "Pneumonia    6244\n",
      "Normal       6244\n",
      "COVID-19     6244\n",
      "Name: label_n, dtype: int64\n",
      "Negative and positive values of test: \n",
      "Normal       12245\n",
      "Pneumonia     7395\n",
      "COVID-19      6018\n",
      "Name: label_n, dtype: int64\n"
     ]
    }
   ],
   "source": [
    "print(f\"Negative and positive values of train: \\n{train_df['label_n'].value_counts()}\")\n",
    "print(f\"Negative and positive values of validation: \\n{val_df['label_n'].value_counts()}\")\n",
    "print(f\"Negative and positive values of test: \\n{test_df['label_n'].value_counts()}\")"
   ]
  },
  {
   "cell_type": "code",
   "execution_count": 15,
   "metadata": {
    "execution": {
     "iopub.execute_input": "2022-05-20T03:28:29.909559Z",
     "iopub.status.busy": "2022-05-20T03:28:29.909174Z",
     "iopub.status.idle": "2022-05-20T03:28:29.935439Z",
     "shell.execute_reply": "2022-05-20T03:28:29.934626Z",
     "shell.execute_reply.started": "2022-05-20T03:28:29.909520Z"
    }
   },
   "outputs": [],
   "source": [
    "train_df=train_df.reset_index()\n",
    "val_df=val_df.reset_index()\n",
    "test_df=test_df.reset_index()"
   ]
  },
  {
   "cell_type": "markdown",
   "metadata": {},
   "source": [
    "## PreProcessing Data"
   ]
  },
  {
   "cell_type": "code",
   "execution_count": 16,
   "metadata": {
    "execution": {
     "iopub.execute_input": "2022-05-20T03:28:31.654485Z",
     "iopub.status.busy": "2022-05-20T03:28:31.653781Z",
     "iopub.status.idle": "2022-05-20T03:28:31.659545Z",
     "shell.execute_reply": "2022-05-20T03:28:31.658731Z",
     "shell.execute_reply.started": "2022-05-20T03:28:31.654448Z"
    }
   },
   "outputs": [],
   "source": [
    "batch_size = 64\n",
    "input_channel = 1\n",
    "input_size = (224,224)\n",
    "crop_size = (340,380)\n",
    "num_classes=3\n",
    "num_epochs = 20"
   ]
  },
  {
   "cell_type": "code",
   "execution_count": 17,
   "metadata": {
    "execution": {
     "iopub.execute_input": "2022-05-20T03:28:33.400150Z",
     "iopub.status.busy": "2022-05-20T03:28:33.399775Z",
     "iopub.status.idle": "2022-05-20T03:28:33.406746Z",
     "shell.execute_reply": "2022-05-20T03:28:33.405961Z",
     "shell.execute_reply.started": "2022-05-20T03:28:33.400117Z"
    }
   },
   "outputs": [],
   "source": [
    "class CovidDataset(Dataset):\n",
    "    def __init__(self, dataset_df, transform=None):\n",
    "        self.dataset_df = dataset_df\n",
    "        self.transform = transform\n",
    "        \n",
    "    def __len__(self):\n",
    "        return self.dataset_df.shape[0]\n",
    "    \n",
    "    def __getitem__(self, idx):\n",
    "        image_name = self.dataset_df['filename'][idx]\n",
    "        img = Image.open(image_name)\n",
    "        label = self.dataset_df['label'][idx]\n",
    "        \n",
    "        if self.transform:\n",
    "            img = self.transform(img)\n",
    "        return img, label"
   ]
  },
  {
   "cell_type": "code",
   "execution_count": 18,
   "metadata": {
    "execution": {
     "iopub.execute_input": "2022-05-20T03:28:35.690433Z",
     "iopub.status.busy": "2022-05-20T03:28:35.689893Z",
     "iopub.status.idle": "2022-05-20T03:28:35.696781Z",
     "shell.execute_reply": "2022-05-20T03:28:35.696062Z",
     "shell.execute_reply.started": "2022-05-20T03:28:35.690393Z"
    }
   },
   "outputs": [],
   "source": [
    "transform = {\n",
    "    'train':transforms.Compose([\n",
    "        transforms.Resize(256),\n",
    "        transforms.RandomResizedCrop((224),scale=(0.5,1.0)),\n",
    "        transforms.RandomHorizontalFlip(),\n",
    "        transforms.ColorJitter(brightness=0.2, contrast=0.2),\n",
    "        transforms.ToTensor(),\n",
    "        transforms.Normalize([0.6349431],[0.32605055])\n",
    "    ]),\n",
    "    'test':transforms.Compose([\n",
    "        transforms.Resize((224,224)),\n",
    "        transforms.ToTensor(),\n",
    "        transforms.Normalize([0.63507175],[0.3278614])\n",
    "    ])\n",
    "}"
   ]
  },
  {
   "cell_type": "code",
   "execution_count": null,
   "metadata": {
    "execution": {
     "iopub.execute_input": "2022-05-20T03:28:37.837401Z",
     "iopub.status.busy": "2022-05-20T03:28:37.836735Z",
     "iopub.status.idle": "2022-05-20T03:28:37.847161Z",
     "shell.execute_reply": "2022-05-20T03:28:37.846422Z",
     "shell.execute_reply.started": "2022-05-20T03:28:37.837365Z"
    }
   },
   "outputs": [],
   "source": [
    "dataset_names=['train','val','test']\n",
    "image_transforms = {'train':transform['train'], 'val':transform['test'],'test':transform['test']}\n",
    "\n",
    "train_dataset = CovidDataset(train_df, transform=image_transforms['train'])\n",
    "val_dataset = CovidDataset(val_df, transform=image_transforms['val'])\n",
    "test_dataset = CovidDataset(test_df, transform=image_transforms['test'])\n",
    "\n",
    "image_dataset = {'train':train_dataset, 'val':val_dataset,'test':test_dataset}\n",
    "\n",
    "dataloaders = {x:DataLoader(image_dataset[x],batch_size=batch_size,shuffle=True,num_workers=4) for x in dataset_names}\n",
    "\n",
    "dataset_sizes = {x:len(image_dataset[x]) for x in dataset_names}"
   ]
  },
  {
   "cell_type": "code",
   "execution_count": null,
   "metadata": {
    "execution": {
     "iopub.execute_input": "2022-05-20T03:28:42.225591Z",
     "iopub.status.busy": "2022-05-20T03:28:42.224974Z",
     "iopub.status.idle": "2022-05-20T03:28:43.367765Z",
     "shell.execute_reply": "2022-05-20T03:28:43.366964Z",
     "shell.execute_reply.started": "2022-05-20T03:28:42.225542Z"
    }
   },
   "outputs": [],
   "source": [
    "import matplotlib.pyplot as plt\n",
    "from PIL import Image\n",
    "def show_tensor_img(tensor_img):\n",
    "    img=transforms.ToPILImage()(tensor_img)\n",
    "    plt.figure()\n",
    "    plt.imshow(img)\n",
    "    plt.show()\n",
    "\n",
    "def show_img(idx):\n",
    "  show_tensor_img(train_dataset[idx][0])\n",
    "for i in range(4):\n",
    "    show_img(i)"
   ]
  },
  {
   "cell_type": "markdown",
   "metadata": {},
   "source": [
    "## Helpful Function"
   ]
  },
  {
   "cell_type": "code",
   "execution_count": 21,
   "metadata": {
    "execution": {
     "iopub.execute_input": "2022-05-20T03:28:47.006788Z",
     "iopub.status.busy": "2022-05-20T03:28:47.006237Z",
     "iopub.status.idle": "2022-05-20T03:28:47.023951Z",
     "shell.execute_reply": "2022-05-20T03:28:47.023014Z",
     "shell.execute_reply.started": "2022-05-20T03:28:47.006737Z"
    }
   },
   "outputs": [],
   "source": [
    "from collections.abc import Iterable\n",
    "\n",
    "def set_freeze_by_idxs(model, idxs, freeze=True):\n",
    "    if not isinstance(idxs, Iterable):\n",
    "        idxs = [idxs]\n",
    "    num_child = len(list(model.children()))\n",
    "    idxs = tuple(map(lambda idx: num_child + idx if idx < 0 else idx, idxs))\n",
    "    for idx, child in enumerate(model.children()):\n",
    "        if idx not in idxs:\n",
    "            continue\n",
    "        for param in child.parameters():\n",
    "            param.requires_grad = not freeze\n",
    "    return model\n",
    "            \n",
    "def freeze_by_idxs(model, idxs):\n",
    "    return set_freeze_by_idxs(model, idxs, True)\n",
    "\n",
    "def unfreeze_by_idxs(model, idxs):\n",
    "    return set_freeze_by_idxs(model, idxs, False)\n",
    "def set_parameter_requires_grad(model):\n",
    "    for param in model.parameters():\n",
    "        param.requires_grad=False\n",
    "    return model\n",
    "\n",
    "def initialize_model(model_name,num_classes,use_pretrained,unfreeze_num):\n",
    "    if model_name=='resnet50':\n",
    "        model_pre=models.wide_resnet50_2(pretrained=use_pretrained)\n",
    "        model_pre.conv1.in_channels=1\n",
    "        model_pre.conv1.weight=Parameter(model_pre.conv1.weight[:,1:2,:,:])\n",
    "        model_pre=set_parameter_requires_grad(model_pre)\n",
    "        num_ftrs=model_pre.fc.in_features\n",
    "        model_pre.fc=nn.Linear(num_ftrs,num_classes)\n",
    "        \n",
    "        for i in range(unfreeze_num):\n",
    "            model_pre.layer4=unfreeze_by_idxs(model_pre.layer4,-i)\n",
    "        for param in model_pre.fc.parameters():\n",
    "            param.requires_grad=True\n",
    "        input_size=224\n",
    "    elif model_name=='resnet101':\n",
    "        model_pre=models.resnet101(pretrained=use_pretrained)\n",
    "        model_pre.conv1.in_channels=1\n",
    "        model_pre.conv1.weight=Parameter(model_pre.conv1.weight[:,1:2,:,:])\n",
    "        model_pre=set_parameter_requires_grad(model_pre)\n",
    "        num_ftrs=model_pre.fc.in_features\n",
    "        model_pre.fc=nn.Linear(num_ftrs,num_classes)\n",
    "        \n",
    "        for i in range(unfreeze_num):\n",
    "            model_pre.layer4=unfreeze_by_idxs(model_pre.layer4,-i)\n",
    "        for param in model_pre.fc.parameters():\n",
    "            param.requires_grad=True\n",
    "        input_size=224\n",
    "    elif model_name=='resnet152':\n",
    "        model_pre=models.resnet152(pretrained=use_pretrained)\n",
    "        model_pre.conv1.in_channels=1\n",
    "        model_pre.conv1.weight=Parameter(model_pre.conv1.weight[:,1:2,:,:])\n",
    "        model_pre=set_parameter_requires_grad(model_pre)\n",
    "        num_ftrs=model_pre.fc.in_features \n",
    "        model_pre.fc=nn.Linear(num_ftrs,num_classes)\n",
    "\n",
    "        for i in range(unfreeze_num):\n",
    "            model_pre.layer4=unfreeze_by_idxs(model_pre.layer4,-i)\n",
    "        for param in model_pre.fc.parameters():\n",
    "            param.requires_grad=True\n",
    "        input_size=224\n",
    "    else:\n",
    "        print('model not implemented')\n",
    "        return None,None\n",
    "    return model_pre, input_size"
   ]
  },
  {
   "cell_type": "code",
   "execution_count": 22,
   "metadata": {
    "execution": {
     "iopub.execute_input": "2022-05-20T03:28:49.985388Z",
     "iopub.status.busy": "2022-05-20T03:28:49.984806Z",
     "iopub.status.idle": "2022-05-20T03:28:50.000912Z",
     "shell.execute_reply": "2022-05-20T03:28:50.000165Z",
     "shell.execute_reply.started": "2022-05-20T03:28:49.985353Z"
    }
   },
   "outputs": [],
   "source": [
    "import itertools\n",
    "\n",
    "def plot_confusion_matrix(cm, classes, normalize=False, title='Confusion matrix', cmap=plt.cm.Blues):\n",
    "    cm=cm.numpy()\n",
    "    if normalize:\n",
    "        cm = cm.astype('float') / cm.sum(axis=1)[:, np.newaxis]\n",
    "        print(\"Normalized confusion matrix\")\n",
    "    else:\n",
    "        cm=cm.astype('int')\n",
    "        print('Confusion matrix, without normalization')\n",
    "#     print(cm)\n",
    "    plt.imshow(cm, interpolation='nearest', cmap=cmap)\n",
    "    plt.title(title)\n",
    "    plt.colorbar()\n",
    "    tick_marks = np.arange(len(classes))\n",
    "    plt.xticks(tick_marks, classes, rotation=45)\n",
    "    plt.yticks(tick_marks, classes)\n",
    "    fmt = '{:.2f}' if normalize else '{}'\n",
    "    thresh = cm.max() / 2.\n",
    "    for i, j in itertools.product(range(cm.shape[0]), range(cm.shape[1])):\n",
    "      plt.text(i, j, fmt.format(cm[i, j]),horizontalalignment=\"center\",color=\"white\" if cm[i, j] > thresh else \"black\")\n",
    "    plt.tight_layout()\n",
    "    plt.ylabel('True label')\n",
    "    plt.xlabel('Predicted label')\n",
    "    plt.show()\n",
    "\n",
    "def confusion_matrix(preds, labels, conf_matrix):\n",
    "    preds = torch.argmax(preds, 1)\n",
    "    for p, t in zip(preds, labels):\n",
    "        conf_matrix[t, p] += 1\n",
    "    return conf_matrix\n",
    "\n",
    "def calculate_all_prediction(conf_matrix):\n",
    "    total_sum = conf_matrix.sum()\n",
    "    correct_sum = (np.diag(conf_matrix)).sum()\n",
    "    prediction = round(100*float(correct_sum)/float(total_sum),2)\n",
    "    return prediction\n",
    " \n",
    "def calculate_label_prediction(conf_matrix,labelidx):\n",
    "    label_total_sum = conf_matrix.sum(axis=0)[labelidx]\n",
    "    label_correct_sum = conf_matrix[labelidx][labelidx]\n",
    "    prediction = 0\n",
    "    if label_total_sum != 0:\n",
    "        prediction = round(100*float(label_correct_sum)/float(label_total_sum),2)\n",
    "    return prediction\n",
    " \n",
    "def calculate_label_recall(conf_matrix,labelidx):\n",
    "    label_total_sum = conf_matrix.sum(axis=1)[labelidx]\n",
    "    label_correct_sum = conf_matrix[labelidx][labelidx]\n",
    "    recall = 0\n",
    "    if label_total_sum != 0:\n",
    "        recall = round(100*float(label_correct_sum)/float(label_total_sum),2)\n",
    "    return recall\n",
    " \n",
    "def calculate_f1(prediction,recall):\n",
    "    if (prediction+recall)==0:\n",
    "        return 0\n",
    "    return round(2*prediction*recall/(prediction+recall),2)"
   ]
  },
  {
   "cell_type": "markdown",
   "metadata": {},
   "source": [
    "## Run and Save Model"
   ]
  },
  {
   "cell_type": "code",
   "execution_count": null,
   "metadata": {
    "execution": {
     "iopub.execute_input": "2022-05-20T03:28:52.776720Z",
     "iopub.status.busy": "2022-05-20T03:28:52.776197Z",
     "iopub.status.idle": "2022-05-20T03:29:06.570005Z",
     "shell.execute_reply": "2022-05-20T03:29:06.569115Z",
     "shell.execute_reply.started": "2022-05-20T03:28:52.776682Z"
    }
   },
   "outputs": [],
   "source": [
    "from pathlib import Path\n",
    "model_all=[]\n",
    "dir='.'\n",
    "def auto_net(model_name,num_classes,use_pretrained,unfreeze_num):\n",
    "    \n",
    "    for k in range(unfreeze_num):\n",
    "        model,input_size=initialize_model(model_name,num_classes,use_pretrained,k+1)\n",
    "        my_path=Path(dir+'/{}'.format(model_name))\n",
    "        if not my_path.is_dir(): \n",
    "            os.mkdir(my_path)\n",
    "        torch.save(model,dir+'/{}/{}_{}.pth'.format(model_name,model_name,k)) # 0 1 2 3\n",
    "        model_all.append(model)\n",
    "    return model_all\n",
    "\n",
    "model_name=['resnet50','resnet101','resnet152'] # 'inception_v3','resnext101'\n",
    "# for name in model_name:\n",
    "#     model_all=auto_net(name,num_classes=2,use_pretrained=True,unfreeze_num=4)\n",
    "model_all=auto_net(model_name[0],num_classes=3,use_pretrained=True,unfreeze_num=4)"
   ]
  },
  {
   "cell_type": "markdown",
   "metadata": {},
   "source": [
    "## Load Model"
   ]
  },
  {
   "cell_type": "code",
   "execution_count": null,
   "metadata": {
    "execution": {
     "iopub.execute_input": "2022-05-20T03:29:13.217643Z",
     "iopub.status.busy": "2022-05-20T03:29:13.217286Z",
     "iopub.status.idle": "2022-05-20T03:29:16.808139Z",
     "shell.execute_reply": "2022-05-20T03:29:16.807400Z",
     "shell.execute_reply.started": "2022-05-20T03:29:13.217603Z"
    }
   },
   "outputs": [],
   "source": [
    "path='./resnet50/resnet50_3.pth'\n",
    "\n",
    "device=torch.device('cuda' if torch.cuda.is_available() else 'cpu')\n",
    "\n",
    "model=torch.load(path)\n",
    "model=model.to(device)\n",
    "\n",
    "criterion=nn.CrossEntropyLoss()\n",
    "optimizer = torch.optim.Adam(model.parameters(),lr=0.0001,betas=(0.9, 0.999))"
   ]
  },
  {
   "cell_type": "code",
   "execution_count": null,
   "metadata": {
    "execution": {
     "iopub.execute_input": "2022-05-20T03:29:19.722483Z",
     "iopub.status.busy": "2022-05-20T03:29:19.720376Z",
     "iopub.status.idle": "2022-05-20T03:29:19.733671Z",
     "shell.execute_reply": "2022-05-20T03:29:19.732945Z",
     "shell.execute_reply.started": "2022-05-20T03:29:19.722447Z"
    }
   },
   "outputs": [],
   "source": [
    "def train(model,epoch,num_epochs,criterion,optimizer):\n",
    "    model.train()\n",
    "    print('-' * 100)\n",
    "    print('Epoch {}/{}'.format(epoch, num_epochs - 1))\n",
    "    running_loss = 0.0\n",
    "    running_corrects = 0\n",
    "    for idx, (inputs, labels) in enumerate(dataloaders['train']):\n",
    "        inputs,labels=inputs.to(device),labels.to(device)\n",
    "        outputs = model(inputs)\n",
    "        _, preds = torch.max(outputs, 1)\n",
    "        loss = criterion(outputs, labels)\n",
    "\n",
    "        optimizer.zero_grad()\n",
    "        loss.backward()\n",
    "        optimizer.step()\n",
    "\n",
    "        if idx % 100 == 99:\n",
    "            print('train iteration:{},loss:{},acc:{}%'.format( idx, loss.item(),torch.sum(preds == labels.data)/batch_size*100))\n",
    "        running_loss += loss.item() * inputs.size(0)\n",
    "        running_corrects += torch.sum(preds == labels.data)\n",
    "\n",
    "    epoch_loss = running_loss / dataset_sizes['train']\n",
    "    epoch_acc = running_corrects.double() / dataset_sizes['train']\n",
    "    print('train_total Loss: {:.4f} Acc: {:.4f}%'.format( epoch_loss, epoch_acc*100))"
   ]
  },
  {
   "cell_type": "code",
   "execution_count": null,
   "metadata": {
    "execution": {
     "iopub.execute_input": "2022-05-20T03:29:23.946069Z",
     "iopub.status.busy": "2022-05-20T03:29:23.945669Z",
     "iopub.status.idle": "2022-05-20T03:29:23.958799Z",
     "shell.execute_reply": "2022-05-20T03:29:23.957963Z",
     "shell.execute_reply.started": "2022-05-20T03:29:23.946012Z"
    }
   },
   "outputs": [],
   "source": [
    "def test(model,epoch,num_epochs,criterion,optimizer,best_acc):\n",
    "    model.eval()\n",
    "    running_loss = 0.0\n",
    "    running_corrects = 0\n",
    "    best_acc=best_acc\n",
    "    best_model_wts=copy.deepcopy(model.state_dict())\n",
    "    conf_matrix = torch.zeros(num_classes, num_classes) \n",
    "    with torch.no_grad():\n",
    "        for idx, (inputs, labels) in enumerate(dataloaders['val']):\n",
    "            inputs, labels = inputs.to(device), labels.to(device)\n",
    "            outputs = model(inputs)\n",
    "            _, preds = torch.max(outputs, 1)\n",
    "            loss = criterion(outputs, labels)\n",
    "            conf_matrix = confusion_matrix(outputs, labels, conf_matrix) \n",
    "\n",
    "            running_loss += loss.item() * inputs.size(0)\n",
    "            running_corrects += torch.sum(preds == labels.data) \n",
    "\n",
    "        #plot_confusion_matrix(conf_matrix, classes=class_names, normalize=False, title='confusion matrix') \n",
    "\n",
    "    epoch_loss = running_loss / dataset_sizes['val'] \n",
    "    epoch_acc = running_corrects.double() / dataset_sizes['val']\n",
    "    print('val_total Loss: {:.4f} Acc: {:.4f}%'.format( epoch_loss, epoch_acc*100))\n",
    "\n",
    "    all_prediction = calculate_all_prediction(conf_matrix)\n",
    "    print('all_prediction:{}'.format(all_prediction))\n",
    "    label_prediction = [] \n",
    "    label_recall = [] \n",
    "    for i in range(num_classes):\n",
    "        label_prediction.append(calculate_label_prediction(conf_matrix,i))\n",
    "        label_recall.append(calculate_label_recall(conf_matrix,i))\n",
    "\n",
    "    keys=class_names\n",
    "    values=list(range(num_classes))\n",
    "    dictionary = dict(zip(keys, values))\n",
    "    for ei,i in enumerate(dictionary):\n",
    "        print(ei,'\\t',i,'\\t','prediction=',label_prediction[ei],'%,\\trecall=',label_recall[ei],'%,\\tf1=',calculate_f1(label_prediction[ei],label_recall[ei])) # 输出每个类的，精确率，召回率，F1\n",
    "    p = round(np.array(label_prediction).sum()/len(label_prediction),2)\n",
    "    r = round(np.array(label_recall).sum()/len(label_prediction),2) \n",
    "    print('MACRO-averaged:\\nprediction=',p,'%,recall=',r,'%,f1=',calculate_f1(p,r))\n",
    "\n",
    "    if epoch_acc > best_acc:\n",
    "        best_acc=epoch_acc.item()\n",
    "        best_model_wts=copy.deepcopy(model.state_dict())\n",
    "\n",
    "    return best_model_wts,best_acc,epoch_acc.item()"
   ]
  },
  {
   "cell_type": "markdown",
   "metadata": {},
   "source": [
    "## Main Code"
   ]
  },
  {
   "cell_type": "code",
   "execution_count": null,
   "metadata": {
    "execution": {
     "iopub.execute_input": "2022-05-20T03:29:26.506483Z",
     "iopub.status.busy": "2022-05-20T03:29:26.505919Z"
    }
   },
   "outputs": [],
   "source": [
    "if __name__ == '__main__':\n",
    "    best_model_wts = copy.deepcopy(model.state_dict())\n",
    "    best_acc = 0.0\n",
    "    acc=[]\n",
    "    for epoch in range(num_epochs):\n",
    "        train(model,epoch,num_epochs,criterion,optimizer)\n",
    "        best_model_wts,best_acc,epoch_acc=test(model,epoch,num_epochs,criterion,optimizer,best_acc)\n",
    "        acc.append(epoch_acc)\n",
    "    print('*' * 100)\n",
    "    print('best_acc:{}'.format(best_acc))\n",
    "    print('*' * 100)\n",
    "    torch.save(best_model_wts, 'resnet50_3_model_best_acc.pth')"
   ]
  },
  {
   "cell_type": "markdown",
   "metadata": {},
   "source": [
    "## Evaluation Model"
   ]
  },
  {
   "cell_type": "code",
   "execution_count": null,
   "metadata": {},
   "outputs": [],
   "source": [
    "print(acc)"
   ]
  },
  {
   "cell_type": "code",
   "execution_count": 1,
   "metadata": {},
   "outputs": [
    {
     "ename": "NameError",
     "evalue": "name 'acc' is not defined",
     "output_type": "error",
     "traceback": [
      "\u001b[1;31m---------------------------------------------------------------------------\u001b[0m",
      "\u001b[1;31mNameError\u001b[0m                                 Traceback (most recent call last)",
      "Input \u001b[1;32mIn [1]\u001b[0m, in \u001b[0;36m<cell line: 1>\u001b[1;34m()\u001b[0m\n\u001b[1;32m----> 1\u001b[0m x\u001b[38;5;241m=\u001b[39m\u001b[38;5;28mrange\u001b[39m(\u001b[38;5;28mlen\u001b[39m(\u001b[43macc\u001b[49m))\n\u001b[0;32m      2\u001b[0m y\u001b[38;5;241m=\u001b[39macc\n\u001b[0;32m      3\u001b[0m plt\u001b[38;5;241m.\u001b[39mfigure()\n",
      "\u001b[1;31mNameError\u001b[0m: name 'acc' is not defined"
     ]
    }
   ],
   "source": [
    "x=range(len(acc))\n",
    "y=acc\n",
    "plt.figure()\n",
    "plt.title('resnet50_3_acc_lr=0.0001')\n",
    "plt.plot(x,y)\n",
    "plt.show()"
   ]
  },
  {
   "cell_type": "code",
   "execution_count": null,
   "metadata": {},
   "outputs": [],
   "source": []
  }
 ],
 "metadata": {
  "kernelspec": {
   "display_name": "Python 3 (ipykernel)",
   "language": "python",
   "name": "python3"
  },
  "language_info": {
   "codemirror_mode": {
    "name": "ipython",
    "version": 3
   },
   "file_extension": ".py",
   "mimetype": "text/x-python",
   "name": "python",
   "nbconvert_exporter": "python",
   "pygments_lexer": "ipython3",
   "version": "3.10.4"
  }
 },
 "nbformat": 4,
 "nbformat_minor": 4
}
